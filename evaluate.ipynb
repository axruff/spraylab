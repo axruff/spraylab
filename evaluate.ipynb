{
 "cells": [
  {
   "cell_type": "markdown",
   "metadata": {},
   "source": [
    "## Evaluation on Ground truth data"
   ]
  },
  {
   "cell_type": "code",
   "execution_count": 48,
   "metadata": {},
   "outputs": [],
   "source": [
    "import os\n",
    "import time as t\n",
    "import numpy as np\n",
    "import math\n",
    "\n",
    "\n",
    "from tqdm import tqdm\n",
    "import matplotlib.pyplot as plt\n",
    "\n",
    "from PIL import Image\n",
    "\n",
    "from utils import *\n",
    "from numerics import *"
   ]
  },
  {
   "cell_type": "code",
   "execution_count": 55,
   "metadata": {},
   "outputs": [],
   "source": [
    "def filter_and_summarize_velocities(amp, corr, peak, flow_x, flow_y):\n",
    "    \n",
    "    min_corr_value = 0.2 \n",
    "    # 2. Mean velocity with filtering on the correlation coefficient\n",
    "    filtered_corr = np.where(corr > min_corr_value, 1, 0)\n",
    "\n",
    "\n",
    "    # 3. Mean velocity with filtering on velocities\n",
    "    perc_filtering_threshold = 0.5\n",
    "    amp_mean_truth = 8\n",
    "    min_vel_in_pixels = (1.0 - perc_filtering_threshold)*amp_mean_truth\n",
    "    max_vel_in_pixels = (1.0 + perc_filtering_threshold)*amp_mean_truth\n",
    "    filtered_amp_seq = np.where(np.all([amp > min_vel_in_pixels, amp < max_vel_in_pixels, np.abs(flow_x) > np.abs(flow_y)], axis=0), amp, 0)\n",
    "\n",
    "\n",
    "    # 4. Mean velocity with filtering on local peak height\n",
    "    filtered_peak = np.where(peak > corr / 2.0, 1, 0)\n",
    "\n",
    "   \n",
    "    # 5. Mean velocity with filtering on all constraints\n",
    "    \n",
    "    filtered_all = vec_mul3(filtered_amp_seq,filtered_corr,filtered_peak)\n",
    "   \n",
    "    \n",
    "    del filtered_corr, filtered_amp_seq, filtered_peak\n",
    "    \n",
    "    return filtered_all \n"
   ]
  },
  {
   "cell_type": "code",
   "execution_count": 59,
   "metadata": {},
   "outputs": [],
   "source": [
    "#gt_path = 'y:\\\\projects\\\\pn-reduction\\\\farago\\\\result\\\\watershed-gt-scan-dense-oy-300\\\\'\n",
    "#res_path = 'y:\\\\projects\\\\pn-reduction\\\\ershov\\\\exp_div\\\\exp_div_par_300\\\\'\n",
    "\n",
    "datasets = ['300', '400', '500', '600']\n",
    "#datasets = ['300']\n",
    "\n"
   ]
  },
  {
   "cell_type": "code",
   "execution_count": 60,
   "metadata": {},
   "outputs": [
    {
     "name": "stderr",
     "output_type": "stream",
     "text": [
      " 38%|███▊      | 55/144 [00:00<00:00, 544.17it/s]"
     ]
    },
    {
     "name": "stdout",
     "output_type": "stream",
     "text": [
      "('Dataset:', '300')\n"
     ]
    },
    {
     "name": "stderr",
     "output_type": "stream",
     "text": [
      "100%|██████████| 144/144 [00:00<00:00, 461.40it/s]\n",
      "100%|██████████| 144/144 [00:00<00:00, 459.29it/s]\n"
     ]
    },
    {
     "name": "stdout",
     "output_type": "stream",
     "text": [
      "('Mean error:', 0.20283465)\n",
      "('Std of error:', 0.33984092)\n",
      "('Dataset:', '400')\n"
     ]
    },
    {
     "name": "stderr",
     "output_type": "stream",
     "text": [
      "100%|██████████| 144/144 [00:00<00:00, 234.82it/s]\n",
      "100%|██████████| 144/144 [00:00<00:00, 234.24it/s]\n"
     ]
    },
    {
     "name": "stdout",
     "output_type": "stream",
     "text": [
      "('Mean error:', 0.15481395)\n",
      "('Std of error:', 0.3400629)\n",
      "('Dataset:', '500')\n"
     ]
    },
    {
     "name": "stderr",
     "output_type": "stream",
     "text": [
      "100%|██████████| 144/144 [00:00<00:00, 216.87it/s]\n",
      "100%|██████████| 144/144 [00:00<00:00, 234.31it/s]\n"
     ]
    },
    {
     "name": "stdout",
     "output_type": "stream",
     "text": [
      "('Mean error:', 0.12056734)\n",
      "('Std of error:', 0.33055094)\n",
      "('Dataset:', '600')\n"
     ]
    },
    {
     "name": "stderr",
     "output_type": "stream",
     "text": [
      "100%|██████████| 144/144 [00:00<00:00, 234.76it/s]\n",
      "100%|██████████| 144/144 [00:00<00:00, 234.73it/s]\n"
     ]
    },
    {
     "name": "stdout",
     "output_type": "stream",
     "text": [
      "('Mean error:', 0.11574425)\n",
      "('Std of error:', 0.31477126)\n"
     ]
    }
   ],
   "source": [
    "for dt in datasets:\n",
    "    \n",
    "    dataset = dt\n",
    "    \n",
    "    print('Dataset:', dataset)\n",
    "    \n",
    "    gt_path = '/mnt/LSDF/projects/pn-reduction/farago/result/watershed-gt-scan-dense-oy-' + dataset + '/'\n",
    "    res_path = '/mnt/LSDF/projects/pn-reduction/ershov/exp_div/exp_div_par_' + dataset + '/'\n",
    "    \n",
    "    # Read ground truth flow\n",
    "    gtx_orig = read_images_from_directory_statusbar(gt_path, 'fo-'+dataset+'-gt-2')\n",
    "    gty_orig = read_images_from_directory_statusbar(gt_path, 'fo-'+dataset+'-gt-1')\n",
    "    \n",
    "    # Correct rotation and components to match coordinates\n",
    "    gtx = - np.rot90(gty_orig, 3, axes=(1,2))\n",
    "    gty = np.rot90(gtx_orig, 3, axes=(1,2))\n",
    "    gta = np.sqrt(gtx**2 + gty**2)\n",
    "    \n",
    "    # Read computed autocorrelation results\n",
    "    \n",
    "    p = res_path + 'exp_div_Tile_d'+dataset\n",
    "    \n",
    "    vx = read_tiff(p +'_flow_x_seq.tif', 200)\n",
    "    vy = read_tiff(p +'_flow_y_seq.tif', 200)\n",
    "    va = np.sqrt(vx**2 + vy**2)\n",
    "    \n",
    "    corr = read_tiff(p + '_corr_seq.tif', 200)\n",
    "    peak = read_tiff(p + '_peak_seq.tif', 200)\n",
    "    \n",
    "    # Filtered results (valid according to the filtering procedure)\n",
    "    filtered = filter_and_summarize_velocities(va, corr, peak, vx, vy)\n",
    "    \n",
    "    # Consider indexes which are both valid in ground truth and filtered results\n",
    "    ids = np.nonzero(gta*filtered)\n",
    "\n",
    "    diff_mean_amp = np.mean(np.abs(gta[ids] - va[ids]))\n",
    "    diff_std_amp = np.std(np.abs(gta[ids] - va[ids]))\n",
    "    \n",
    "    print('Mean error:', diff_mean_amp)\n",
    "    print('Std of error:', diff_std_amp)\n",
    "    "
   ]
  },
  {
   "cell_type": "code",
   "execution_count": null,
   "metadata": {},
   "outputs": [],
   "source": []
  },
  {
   "cell_type": "code",
   "execution_count": null,
   "metadata": {},
   "outputs": [],
   "source": []
  },
  {
   "cell_type": "code",
   "execution_count": 36,
   "metadata": {},
   "outputs": [],
   "source": []
  },
  {
   "cell_type": "code",
   "execution_count": 20,
   "metadata": {},
   "outputs": [
    {
     "name": "stdout",
     "output_type": "stream",
     "text": [
      "144\n",
      "144\n"
     ]
    }
   ],
   "source": [
    "print(len(gtx_orig))\n",
    "print(len(vx))"
   ]
  },
  {
   "cell_type": "code",
   "execution_count": 30,
   "metadata": {},
   "outputs": [],
   "source": []
  },
  {
   "cell_type": "code",
   "execution_count": 33,
   "metadata": {},
   "outputs": [
    {
     "data": {
      "image/png": "[encoded data removed]",
      "text/plain": [
       "<Figure size 432x288 with 2 Axes>"
      ]
     },
     "metadata": {
      "needs_background": "light"
     },
     "output_type": "display_data"
    },
    {
     "data": {
      "image/png": "[encoded data removed]",
      "text/plain": [
       "<Figure size 432x288 with 2 Axes>"
      ]
     },
     "metadata": {
      "needs_background": "light"
     },
     "output_type": "display_data"
    },
    {
     "data": {
      "image/png": "[encoded data removed]",
      "text/plain": [
       "<Figure size 432x288 with 2 Axes>"
      ]
     },
     "metadata": {
      "needs_background": "light"
     },
     "output_type": "display_data"
    }
   ],
   "source": [
    "imx = gtx[0]\n",
    "imy = gty[0]\n",
    "ima = gta[0]\n",
    "\n",
    "plt.imshow(imx, cmap='gray')\n",
    "plt.colorbar()\n",
    "plt.show()\n",
    "\n",
    "plt.imshow(imy, cmap='gray')\n",
    "plt.colorbar()\n",
    "plt.show()\n",
    "\n",
    "plt.imshow(ima, vmin=6, cmap='jet')\n",
    "plt.colorbar()\n",
    "plt.show()\n"
   ]
  },
  {
   "cell_type": "code",
   "execution_count": 41,
   "metadata": {},
   "outputs": [],
   "source": [
    "ids = np.nonzero(gta)\n",
    "\n",
    "diff_mean_amp = np.mean(np.abs(gta[ids] - va[ids]))\n",
    "diff_std_amp = np.std(np.abs(gta[ids] - va[ids]))"
   ]
  },
  {
   "cell_type": "code",
   "execution_count": 43,
   "metadata": {},
   "outputs": [
    {
     "name": "stdout",
     "output_type": "stream",
     "text": [
      "('Mean error:', 1.180505)\n",
      "('Std of error:', 2.1500726)\n"
     ]
    }
   ],
   "source": [
    "print('Mean error:', diff_mean_amp)\n",
    "print('Std of error:', diff_std_amp)"
   ]
  },
  {
   "cell_type": "code",
   "execution_count": null,
   "metadata": {},
   "outputs": [],
   "source": []
  }
 ],
 "metadata": {
  "kernelspec": {
   "display_name": "Python 2",
   "language": "python",
   "name": "python2"
  },
  "language_info": {
   "codemirror_mode": {
    "name": "ipython",
    "version": 2
   },
   "file_extension": ".py",
   "mimetype": "text/x-python",
   "name": "python",
   "nbconvert_exporter": "python",
   "pygments_lexer": "ipython2",
   "version": "2.7.15"
  }
 },
 "nbformat": 4,
 "nbformat_minor": 2
}
