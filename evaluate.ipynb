{
 "cells": [
  {
   "cell_type": "markdown",
   "metadata": {},
   "source": [
    "## Evaluation on Ground truth data\n",
    "\n",
    "Ground truth modes\n",
    "- Constant flow\n",
    "- Mean flow + std\n",
    "- Flow in non-overlapping regions"
   ]
  },
  {
   "cell_type": "code",
   "execution_count": 104,
   "metadata": {},
   "outputs": [],
   "source": [
    "import os\n",
    "import time as t\n",
    "import numpy as np\n",
    "import math\n",
    "\n",
    "\n",
    "from tqdm import tqdm\n",
    "import matplotlib.pyplot as plt\n",
    "import matplotlib.gridspec as gridspec\n",
    "from imageio import imread \n",
    "\n",
    "from PIL import Image\n",
    "\n",
    "from utils import *\n",
    "from numerics import *"
   ]
  },
  {
   "cell_type": "code",
   "execution_count": 66,
   "metadata": {},
   "outputs": [],
   "source": [
    "def filter_and_summarize_velocities(amp, corr, peak, flow_x, flow_y):\n",
    "    \n",
    "    # 2. Mean velocity with filtering on the correlation coefficient\n",
    "    filtered_corr = np.where(corr > min_corr_value, 1, 0)\n",
    "\n",
    "    # 3. Mean velocity with filtering on velocities\n",
    "    min_vel_in_pixels = (1.0 - perc_filtering_threshold)*amp_mean_truth\n",
    "    max_vel_in_pixels = (1.0 + perc_filtering_threshold)*amp_mean_truth\n",
    "    filtered_amp_seq = np.where(np.all([amp > min_vel_in_pixels, amp < max_vel_in_pixels, np.abs(flow_x) > np.abs(flow_y)], axis=0), amp, 0)\n",
    "\n",
    "\n",
    "    # 4. Mean velocity with filtering on local peak height\n",
    "    filtered_peak = np.where(peak > corr * peak_ratio, 1, 0)\n",
    "\n",
    "    # 5. Mean velocity with filtering on all constraints  \n",
    "    filtered_all = vec_mul3(filtered_amp_seq,filtered_corr,filtered_peak)\n",
    "    \n",
    "    del filtered_corr, filtered_amp_seq, filtered_peak\n",
    "    \n",
    "    return filtered_all \n"
   ]
  },
  {
   "cell_type": "markdown",
   "metadata": {},
   "source": [
    "# Settings"
   ]
  },
  {
   "cell_type": "code",
   "execution_count": 89,
   "metadata": {},
   "outputs": [],
   "source": [
    "#gt_path = 'y:\\\\projects\\\\pn-reduction\\\\farago\\\\result\\\\watershed-gt-scan-dense-oy-300\\\\'\n",
    "#res_path = 'y:\\\\projects\\\\pn-reduction\\\\ershov\\\\exp_div\\\\exp_div_par_300\\\\'\n",
    "\n",
    "pixel_size = 4.0 # Simulation\n",
    "\n",
    "bunch_period = 176  # 176 ns bunch separation period\n",
    "time_factor = bunch_period / 1000.0   # in microseconds\n",
    "vel_factor = pixel_size / time_factor\n",
    "\n",
    "# Filtering settings\n",
    "min_corr_value = 0.2 \n",
    "\n",
    "perc_filtering_threshold = 0.5\n",
    "amp_mean_truth = 8\n",
    "\n",
    "peak_ratio = 0.5"
   ]
  },
  {
   "cell_type": "markdown",
   "metadata": {},
   "source": [
    "## Ground truth mode: Constant flow"
   ]
  },
  {
   "cell_type": "code",
   "execution_count": 113,
   "metadata": {},
   "outputs": [
    {
     "name": "stdout",
     "output_type": "stream",
     "text": [
      "('GT velocity: ', 181.81818181818184)\n",
      "('Result: ', 181.40402)\n",
      "('Mean error:', 0.41415960138496644)\n",
      "('Std:', 5.255367)\n"
     ]
    }
   ],
   "source": [
    "res_path = '/mnt/LSDF/projects/pn-reduction/ershov/params_scan/params_scan_param_all_v2/'\n",
    "\n",
    "gt_amp = 8\n",
    "\n",
    "va = imread(res_path + 'params_scan_Tile_dall_amp_mean_filter_all.tif')\n",
    "va_std = imread(res_path + 'params_scan_Tile_dall_amp_std_filter_all.tif')\n",
    "\n",
    "va_mean = np.mean(va[90:90+65, 35:35+205])\n",
    "\n",
    "diff_mean_amp = np.abs(gt_amp*vel_factor - va_mean)\n",
    "std_amp = np.mean(va_std[90:90+65, 35:35+205])\n",
    "\n",
    "print('GT velocity: ', gt_amp*vel_factor)\n",
    "print('Result: ', va_mean)\n",
    "\n",
    "print('Mean error:', diff_mean_amp)\n",
    "print('Std:', std_amp)"
   ]
  },
  {
   "cell_type": "markdown",
   "metadata": {},
   "source": [
    "## Ground truth mode: Non-overlapping clusters"
   ]
  },
  {
   "cell_type": "code",
   "execution_count": 131,
   "metadata": {},
   "outputs": [
    {
     "name": "stdout",
     "output_type": "stream",
     "text": [
      "('Dataset:', '600')\n",
      "('Dataset:', '500')\n",
      "('Dataset:', '400')\n",
      "('Dataset:', '300')\n",
      "('Dataset:', '250')\n"
     ]
    }
   ],
   "source": [
    "datasets = ['250', '300', '400', '500', '600'][::-1]\n",
    "#datasets = ['300']\n",
    "\n",
    "amp_mean_list = []\n",
    "amp_std_list = []\n",
    "vx_mean_list = []\n",
    "vx_std_list = []\n",
    "vy_mean_list = []\n",
    "vy_std_list = []\n",
    "\n",
    "for dt in datasets:\n",
    "    \n",
    "    dataset = dt\n",
    "    \n",
    "    print('Dataset:', dataset)\n",
    "    \n",
    "    gt_path = '/mnt/LSDF/projects/pn-reduction/farago/result/watershed-gt-scan-dense-oy-' + dataset + '/'\n",
    "    res_path = '/mnt/LSDF/projects/pn-reduction/ershov/exp_div/exp_div_par_' + dataset + '/'\n",
    "    \n",
    "    # Read ground truth flow\n",
    "    gtx_orig = read_images_from_directory(gt_path, 'fo-'+dataset+'-gt-2')\n",
    "    gty_orig = read_images_from_directory(gt_path, 'fo-'+dataset+'-gt-1')\n",
    "    \n",
    "    # Correct rotation and components to match coordinates\n",
    "    gtx = - np.rot90(gty_orig, 3, axes=(1,2))\n",
    "    gty = np.rot90(gtx_orig, 3, axes=(1,2))\n",
    "    gta = np.sqrt(gtx**2 + gty**2)\n",
    "    \n",
    "    # Read computed autocorrelation results\n",
    "    \n",
    "    p = res_path + 'exp_div_Tile_d'+dataset\n",
    "    \n",
    "    if dataset=='250':\n",
    "        max_images = 113\n",
    "    else:\n",
    "        max_images = 200\n",
    "    \n",
    "    vx = read_tiff(p +'_flow_x_seq.tif', max_images)\n",
    "    vy = read_tiff(p +'_flow_y_seq.tif', max_images)\n",
    "    va = np.sqrt(vx**2 + vy**2)\n",
    "    \n",
    "    corr = read_tiff(p + '_corr_seq.tif', max_images)\n",
    "    peak = read_tiff(p + '_peak_seq.tif', max_images)\n",
    "    \n",
    "    # Filtered results (valid according to the filtering procedure)\n",
    "    filtered = filter_and_summarize_velocities(va, corr, peak, vx, vy)\n",
    "    \n",
    "    # Consider indexes which are both valid in ground truth and filtered results\n",
    "    ids = np.nonzero(gta*filtered)\n",
    "\n",
    "    diff_mean_amp = np.mean(np.abs(gta[ids] - va[ids]))\n",
    "    diff_std_amp = np.std(np.abs(gta[ids] - va[ids])) \n",
    "    \n",
    "    diff_mean_vx = np.mean(np.abs(gtx[ids] - vx[ids]))\n",
    "    diff_std_vx = np.std(np.abs(gtx[ids] - vx[ids])) \n",
    "    \n",
    "    diff_mean_vy = np.mean(np.abs(gty[ids] - vy[ids]))\n",
    "    diff_std_vy = np.std(np.abs(gty[ids] - vy[ids]))\n",
    "    \n",
    "    amp_mean_list.append(diff_mean_amp)\n",
    "    amp_std_list.append(diff_std_amp)\n",
    "    vx_mean_list.append(diff_mean_vx)\n",
    "    vx_std_list.append(diff_std_vx)\n",
    "    vy_mean_list.append(diff_mean_vy)\n",
    "    vy_std_list.append(diff_std_vy)\n",
    "    \n",
    "      \n",
    "    #print('Mean error:', diff_mean_amp * vel_factor)\n",
    "    #print('Std of error:', diff_std_amp * vel_factor)\n",
    "    "
   ]
  },
  {
   "cell_type": "code",
   "execution_count": 132,
   "metadata": {},
   "outputs": [
    {
     "data": {
      "text/plain": [
       "['600', '500', '400', '300', '250']"
      ]
     },
     "execution_count": 132,
     "metadata": {},
     "output_type": "execute_result"
    }
   ],
   "source": [
    "datasets"
   ]
  },
  {
   "cell_type": "markdown",
   "metadata": {},
   "source": [
    "### Plot results"
   ]
  },
  {
   "cell_type": "code",
   "execution_count": 154,
   "metadata": {},
   "outputs": [
    {
     "data": {
      "image/png": "[encoded data removed]",
      "text/plain": [
       "<Figure size 864x288 with 3 Axes>"
      ]
     },
     "metadata": {},
     "output_type": "display_data"
    }
   ],
   "source": [
    "plt.style.use('seaborn')\n",
    "\n",
    "fig = plt.figure(1)\n",
    "\n",
    "ylim = (0, 20)  \n",
    "\n",
    "fig.set_size_inches(12, 4, forward=True)\n",
    "plt.subplots_adjust(top=0.95, bottom=0.04, left=0.05, right=0.95, hspace=0.3 )\n",
    "\n",
    "gs = gridspec.GridSpec(1, 3)\n",
    "\n",
    "ax1 = plt.subplot(gs[0,0])\n",
    "ax1.plot(np.array(amp_mean_list)*vel_factor, linewidth=3, label='mean', marker='.', markersize=15)\n",
    "ax1.plot(np.array(amp_std_list)*vel_factor, linestyle='--', color='brown', label ='std', marker='s', markersize=6)\n",
    "ax1.set_title('Error: Mean velocity magnitude')\n",
    "ax1.set_ylim((0,15))\n",
    "ax1.set_ylabel('velocity, [m/s]')\n",
    "ax1.set_xticks(range(5))\n",
    "ax1.set_xticklabels(datasets)\n",
    "ax1.legend()\n",
    "\n",
    "ax2 = plt.subplot(gs[0,1])\n",
    "ax2.plot(np.array(vx_mean_list)*vel_factor, linewidth=3, label='mean', marker='.', markersize=15)\n",
    "ax2.plot(np.array(vx_std_list)*vel_factor, linestyle='--', color='brown', label ='std', marker='s', markersize=6)\n",
    "ax2.set_title('Error: Mean horizontal velocity')\n",
    "ax2.set_ylim((0,15))\n",
    "ax2.set_xticks(range(5))\n",
    "ax2.set_xticklabels(datasets)\n",
    "\n",
    "ax3 = plt.subplot(gs[0,2])\n",
    "ax3.plot(np.array(vy_mean_list)*vel_factor, linewidth=3, label='mean', marker='.', markersize=15)\n",
    "ax3.plot(np.array(vy_std_list)*vel_factor, linestyle='--', color='brown', label ='std', marker='s', markersize=6)\n",
    "ax3.set_title('Error: Mean vertical velocity')\n",
    "ax3.set_xticks(range(5))\n",
    "ax3.set_xticklabels(datasets)\n",
    "ax3.set_ylim((0, 15))\n",
    "\n",
    "plt.show()\n",
    "#plt.grid(False)"
   ]
  },
  {
   "cell_type": "code",
   "execution_count": null,
   "metadata": {},
   "outputs": [],
   "source": []
  },
  {
   "cell_type": "code",
   "execution_count": 36,
   "metadata": {},
   "outputs": [],
   "source": []
  },
  {
   "cell_type": "code",
   "execution_count": 20,
   "metadata": {},
   "outputs": [
    {
     "name": "stdout",
     "output_type": "stream",
     "text": [
      "144\n",
      "144\n"
     ]
    }
   ],
   "source": [
    "print(len(gtx_orig))\n",
    "print(len(vx))"
   ]
  },
  {
   "cell_type": "code",
   "execution_count": 30,
   "metadata": {},
   "outputs": [],
   "source": []
  },
  {
   "cell_type": "code",
   "execution_count": 33,
   "metadata": {},
   "outputs": [
    {
     "data": {
      "image/png": "[encoded data removed]",
      "text/plain": [
       "<Figure size 432x288 with 2 Axes>"
      ]
     },
     "metadata": {
      "needs_background": "light"
     },
     "output_type": "display_data"
    },
    {
     "data": {
      "image/png": "[encoded data removed]",
      "text/plain": [
       "<Figure size 432x288 with 2 Axes>"
      ]
     },
     "metadata": {
      "needs_background": "light"
     },
     "output_type": "display_data"
    },
    {
     "data": {
      "image/png": "[encoded data removed]",
      "text/plain": [
       "<Figure size 432x288 with 2 Axes>"
      ]
     },
     "metadata": {
      "needs_background": "light"
     },
     "output_type": "display_data"
    }
   ],
   "source": [
    "imx = gtx[0]\n",
    "imy = gty[0]\n",
    "ima = gta[0]\n",
    "\n",
    "plt.imshow(imx, cmap='gray')\n",
    "plt.colorbar()\n",
    "plt.show()\n",
    "\n",
    "plt.imshow(imy, cmap='gray')\n",
    "plt.colorbar()\n",
    "plt.show()\n",
    "\n",
    "plt.imshow(ima, vmin=6, cmap='jet')\n",
    "plt.colorbar()\n",
    "plt.show()\n"
   ]
  },
  {
   "cell_type": "code",
   "execution_count": 41,
   "metadata": {},
   "outputs": [],
   "source": [
    "ids = np.nonzero(gta)\n",
    "\n",
    "diff_mean_amp = np.mean(np.abs(gta[ids] - va[ids]))\n",
    "diff_std_amp = np.std(np.abs(gta[ids] - va[ids]))"
   ]
  },
  {
   "cell_type": "code",
   "execution_count": 43,
   "metadata": {},
   "outputs": [
    {
     "name": "stdout",
     "output_type": "stream",
     "text": [
      "('Mean error:', 1.180505)\n",
      "('Std of error:', 2.1500726)\n"
     ]
    }
   ],
   "source": [
    "print('Mean error:', diff_mean_amp)\n",
    "print('Std of error:', diff_std_amp)"
   ]
  },
  {
   "cell_type": "code",
   "execution_count": null,
   "metadata": {},
   "outputs": [],
   "source": []
  }
 ],
 "metadata": {
  "kernelspec": {
   "display_name": "Python 2",
   "language": "python",
   "name": "python2"
  },
  "language_info": {
   "codemirror_mode": {
    "name": "ipython",
    "version": 2
   },
   "file_extension": ".py",
   "mimetype": "text/x-python",
   "name": "python",
   "nbconvert_exporter": "python",
   "pygments_lexer": "ipython2",
   "version": "2.7.15"
  }
 },
 "nbformat": 4,
 "nbformat_minor": 2
}
