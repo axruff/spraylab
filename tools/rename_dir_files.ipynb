{
 "cells": [
  {
   "cell_type": "code",
   "execution_count": 4,
   "metadata": {},
   "outputs": [],
   "source": [
    "import sys\n",
    "\n",
    "\n",
    "from py.path import local  # import local path object/class\n",
    "\n",
    "\n",
    "def rename_files(root, pattern, replace):\n",
    "    \"\"\"\n",
    "    Iterate over all paths starting at root using ``~py.path.local.visit()``\n",
    "    check if it is a file using ``~py.path.local.check(file=True)`` and\n",
    "    rename it with a new basename with ``pattern`` stripped out.\n",
    "    \"\"\"\n",
    "\n",
    "    for path in root.visit(rec=True):\n",
    "        if path.check(file=True):\n",
    "            path.rename(path.new(basename=path.basename.replace(pattern, replace)))\n",
    "\n",
    "\n",
    "def rename_dirs(root, pattern, replace):\n",
    "    \"\"\"\n",
    "    Iterate over all paths starting at root using ``~py.path.local.visit()``\n",
    "    check if it is a directory using ``~py.path.local.check(dir=True)`` and\n",
    "    rename it with a new basename with ``pattern`` stripped out.\n",
    "    \"\"\"\n",
    "\n",
    "    for path in root.visit(rec=True):\n",
    "        if path.check(dir=True):\n",
    "            path.rename(path.new(basename=path.basename.replace(pattern, replace)))"
   ]
  },
  {
   "cell_type": "code",
   "execution_count": 8,
   "metadata": {},
   "outputs": [
    {
     "ename": "EBUSY",
     "evalue": "[Resource device]: rename(u'y:\\\\projects\\\\pn-reduction\\\\2018_03_esrf_mi1325\\\\Phantom\\\\Glasduese\\\\Nachtschicht 11.3 auf 12.3\\\\025_3\\\\Ansicht off\\\\OP_1bar_25\\xb0C_100bar_25\\xb0C\\\\Z0Y0\\\\OP_1bar_25\\xb0C_100bar_25\\xb0C.cine', u'y:\\\\projects\\\\pn-reduction\\\\2018_03_esrf_mi1325\\\\Phantom\\\\Glasduese\\\\Nachtschicht 11.3 auf 12.3\\\\025_3\\\\Ansicht off\\\\OP_1bar_25\\xb0C_100bar_25\\xb0C\\\\Z0Y0\\\\OP_1bar_25C_100bar_25C.cine')",
     "output_type": "error",
     "traceback": [
      "\u001b[1;31m---------------------------------------------------------------------------\u001b[0m",
      "\u001b[1;31mEBUSY\u001b[0m                                     Traceback (most recent call last)",
      "\u001b[1;32m<ipython-input-8-558de9c2a6ff>\u001b[0m in \u001b[0;36m<module>\u001b[1;34m()\u001b[0m\n\u001b[0;32m      5\u001b[0m \u001b[0mreplace\u001b[0m \u001b[1;33m=\u001b[0m \u001b[1;34m\"\"\u001b[0m\u001b[1;33m\u001b[0m\u001b[0m\n\u001b[0;32m      6\u001b[0m \u001b[1;33m\u001b[0m\u001b[0m\n\u001b[1;32m----> 7\u001b[1;33m \u001b[0mrename_files\u001b[0m\u001b[1;33m(\u001b[0m\u001b[0mroot\u001b[0m\u001b[1;33m,\u001b[0m \u001b[0mpattern\u001b[0m\u001b[1;33m,\u001b[0m \u001b[0mreplace\u001b[0m\u001b[1;33m)\u001b[0m\u001b[1;33m\u001b[0m\u001b[0m\n\u001b[0m\u001b[0;32m      8\u001b[0m \u001b[1;31m#rename_dirs(root, pattern, replace)\u001b[0m\u001b[1;33m\u001b[0m\u001b[1;33m\u001b[0m\u001b[0m\n\u001b[0;32m      9\u001b[0m \u001b[1;33m\u001b[0m\u001b[0m\n",
      "\u001b[1;32m<ipython-input-4-3958c9e11035>\u001b[0m in \u001b[0;36mrename_files\u001b[1;34m(root, pattern, replace)\u001b[0m\n\u001b[0;32m     14\u001b[0m     \u001b[1;32mfor\u001b[0m \u001b[0mpath\u001b[0m \u001b[1;32min\u001b[0m \u001b[0mroot\u001b[0m\u001b[1;33m.\u001b[0m\u001b[0mvisit\u001b[0m\u001b[1;33m(\u001b[0m\u001b[0mrec\u001b[0m\u001b[1;33m=\u001b[0m\u001b[0mTrue\u001b[0m\u001b[1;33m)\u001b[0m\u001b[1;33m:\u001b[0m\u001b[1;33m\u001b[0m\u001b[0m\n\u001b[0;32m     15\u001b[0m         \u001b[1;32mif\u001b[0m \u001b[0mpath\u001b[0m\u001b[1;33m.\u001b[0m\u001b[0mcheck\u001b[0m\u001b[1;33m(\u001b[0m\u001b[0mfile\u001b[0m\u001b[1;33m=\u001b[0m\u001b[0mTrue\u001b[0m\u001b[1;33m)\u001b[0m\u001b[1;33m:\u001b[0m\u001b[1;33m\u001b[0m\u001b[0m\n\u001b[1;32m---> 16\u001b[1;33m             \u001b[0mpath\u001b[0m\u001b[1;33m.\u001b[0m\u001b[0mrename\u001b[0m\u001b[1;33m(\u001b[0m\u001b[0mpath\u001b[0m\u001b[1;33m.\u001b[0m\u001b[0mnew\u001b[0m\u001b[1;33m(\u001b[0m\u001b[0mbasename\u001b[0m\u001b[1;33m=\u001b[0m\u001b[0mpath\u001b[0m\u001b[1;33m.\u001b[0m\u001b[0mbasename\u001b[0m\u001b[1;33m.\u001b[0m\u001b[0mreplace\u001b[0m\u001b[1;33m(\u001b[0m\u001b[0mpattern\u001b[0m\u001b[1;33m,\u001b[0m \u001b[0mreplace\u001b[0m\u001b[1;33m)\u001b[0m\u001b[1;33m)\u001b[0m\u001b[1;33m)\u001b[0m\u001b[1;33m\u001b[0m\u001b[0m\n\u001b[0m\u001b[0;32m     17\u001b[0m \u001b[1;33m\u001b[0m\u001b[0m\n\u001b[0;32m     18\u001b[0m \u001b[1;33m\u001b[0m\u001b[0m\n",
      "\u001b[1;32mC:\\Anaconda2\\lib\\site-packages\\py\\_path\\local.pyc\u001b[0m in \u001b[0;36mrename\u001b[1;34m(self, target)\u001b[0m\n\u001b[0;32m    432\u001b[0m         \u001b[1;34m\"\"\" rename this path to target. \"\"\"\u001b[0m\u001b[1;33m\u001b[0m\u001b[0m\n\u001b[0;32m    433\u001b[0m         \u001b[0mtarget\u001b[0m \u001b[1;33m=\u001b[0m \u001b[0mgetattr\u001b[0m\u001b[1;33m(\u001b[0m\u001b[0mtarget\u001b[0m\u001b[1;33m,\u001b[0m \u001b[1;34m\"strpath\"\u001b[0m\u001b[1;33m,\u001b[0m \u001b[0mtarget\u001b[0m\u001b[1;33m)\u001b[0m\u001b[1;33m\u001b[0m\u001b[0m\n\u001b[1;32m--> 434\u001b[1;33m         \u001b[1;32mreturn\u001b[0m \u001b[0mpy\u001b[0m\u001b[1;33m.\u001b[0m\u001b[0merror\u001b[0m\u001b[1;33m.\u001b[0m\u001b[0mchecked_call\u001b[0m\u001b[1;33m(\u001b[0m\u001b[0mos\u001b[0m\u001b[1;33m.\u001b[0m\u001b[0mrename\u001b[0m\u001b[1;33m,\u001b[0m \u001b[0mself\u001b[0m\u001b[1;33m.\u001b[0m\u001b[0mstrpath\u001b[0m\u001b[1;33m,\u001b[0m \u001b[0mtarget\u001b[0m\u001b[1;33m)\u001b[0m\u001b[1;33m\u001b[0m\u001b[0m\n\u001b[0m\u001b[0;32m    435\u001b[0m \u001b[1;33m\u001b[0m\u001b[0m\n\u001b[0;32m    436\u001b[0m     \u001b[1;32mdef\u001b[0m \u001b[0mdump\u001b[0m\u001b[1;33m(\u001b[0m\u001b[0mself\u001b[0m\u001b[1;33m,\u001b[0m \u001b[0mobj\u001b[0m\u001b[1;33m,\u001b[0m \u001b[0mbin\u001b[0m\u001b[1;33m=\u001b[0m\u001b[1;36m1\u001b[0m\u001b[1;33m)\u001b[0m\u001b[1;33m:\u001b[0m\u001b[1;33m\u001b[0m\u001b[0m\n",
      "\u001b[1;32mC:\\Anaconda2\\lib\\site-packages\\py\\_error.pyc\u001b[0m in \u001b[0;36mchecked_call\u001b[1;34m(self, func, *args, **kwargs)\u001b[0m\n\u001b[0;32m     82\u001b[0m                 \u001b[1;32mexcept\u001b[0m \u001b[0mKeyError\u001b[0m\u001b[1;33m:\u001b[0m\u001b[1;33m\u001b[0m\u001b[0m\n\u001b[0;32m     83\u001b[0m                     \u001b[1;32mraise\u001b[0m \u001b[0mvalue\u001b[0m\u001b[1;33m\u001b[0m\u001b[0m\n\u001b[1;32m---> 84\u001b[1;33m             \u001b[1;32mraise\u001b[0m \u001b[0mcls\u001b[0m\u001b[1;33m(\u001b[0m\u001b[1;34m\"%s%r\"\u001b[0m \u001b[1;33m%\u001b[0m \u001b[1;33m(\u001b[0m\u001b[0mfunc\u001b[0m\u001b[1;33m.\u001b[0m\u001b[0m__name__\u001b[0m\u001b[1;33m,\u001b[0m \u001b[0margs\u001b[0m\u001b[1;33m)\u001b[0m\u001b[1;33m)\u001b[0m\u001b[1;33m\u001b[0m\u001b[0m\n\u001b[0m\u001b[0;32m     85\u001b[0m             \u001b[0m__tracebackhide__\u001b[0m \u001b[1;33m=\u001b[0m \u001b[0mTrue\u001b[0m\u001b[1;33m\u001b[0m\u001b[0m\n\u001b[0;32m     86\u001b[0m \u001b[1;33m\u001b[0m\u001b[0m\n",
      "\u001b[1;31mEBUSY\u001b[0m: [Resource device]: rename(u'y:\\\\projects\\\\pn-reduction\\\\2018_03_esrf_mi1325\\\\Phantom\\\\Glasduese\\\\Nachtschicht 11.3 auf 12.3\\\\025_3\\\\Ansicht off\\\\OP_1bar_25\\xb0C_100bar_25\\xb0C\\\\Z0Y0\\\\OP_1bar_25\\xb0C_100bar_25\\xb0C.cine', u'y:\\\\projects\\\\pn-reduction\\\\2018_03_esrf_mi1325\\\\Phantom\\\\Glasduese\\\\Nachtschicht 11.3 auf 12.3\\\\025_3\\\\Ansicht off\\\\OP_1bar_25\\xb0C_100bar_25\\xb0C\\\\Z0Y0\\\\OP_1bar_25C_100bar_25C.cine')"
     ]
    }
   ],
   "source": [
    "root_path = u'y:\\\\projects\\\\pn-reduction\\\\2018_03_esrf_mi1325\\\\Phantom\\\\Glasduese\\\\'\n",
    "\n",
    "root = local(root_path)\n",
    "pattern = u\"\\xb0\"  # degress character in unicode\n",
    "replace = \"\"\n",
    "\n",
    "rename_files(root, pattern, replace)\n",
    "#rename_dirs(root, pattern, replace)\n",
    "    \n",
    "print 'Finished!'"
   ]
  },
  {
   "cell_type": "code",
   "execution_count": null,
   "metadata": {},
   "outputs": [],
   "source": []
  }
 ],
 "metadata": {
  "kernelspec": {
   "display_name": "Python 2",
   "language": "python",
   "name": "python2"
  },
  "language_info": {
   "codemirror_mode": {
    "name": "ipython",
    "version": 2
   },
   "file_extension": ".py",
   "mimetype": "text/x-python",
   "name": "python",
   "nbconvert_exporter": "python",
   "pygments_lexer": "ipython2",
   "version": "2.7.15"
  }
 },
 "nbformat": 4,
 "nbformat_minor": 2
}
