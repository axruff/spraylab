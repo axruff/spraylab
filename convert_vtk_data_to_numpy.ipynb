{
 "cells": [
  {
   "cell_type": "code",
   "execution_count": 41,
   "metadata": {},
   "outputs": [],
   "source": [
    "import os\n",
    "import numpy\n",
    "import matplotlib.pyplot as plt\n",
    "from vtk import vtkStructuredPointsReader\n",
    "from vtk.util import numpy_support as VN\n",
    "from PIL import Image\n",
    "from scipy.ndimage import imread\n",
    "\n"
   ]
  },
  {
   "cell_type": "code",
   "execution_count": 34,
   "metadata": {},
   "outputs": [],
   "source": [
    "def save_3d_array_as_multitiff(array, file_name):\n",
    "\n",
    "    imlist = list(array)\n",
    "    imlist[0].save(file_name, save_all=True, append_images=imlist[1:])\n",
    "    \n",
    "def ensure_dir(file_path):\n",
    "    directory = os.path.dirname(file_path)\n",
    "    if not os.path.exists(directory):\n",
    "        os.makedirs(directory)"
   ]
  },
  {
   "cell_type": "code",
   "execution_count": 30,
   "metadata": {},
   "outputs": [],
   "source": [
    "path = '/Users/olesia/data/sprays/simulation/'\n",
    "filename = 'out_13.vtk'"
   ]
  },
  {
   "cell_type": "code",
   "execution_count": 3,
   "metadata": {},
   "outputs": [],
   "source": [
    "\n",
    "reader = vtkStructuredPointsReader()\n",
    "reader.SetFileName(path + filename)\n",
    "reader.ReadAllVectorsOn()\n",
    "reader.ReadAllScalarsOn()\n",
    "reader.Update()\n",
    "\n",
    "data = reader.GetOutput()\n",
    "\n"
   ]
  },
  {
   "cell_type": "code",
   "execution_count": 5,
   "metadata": {},
   "outputs": [
    {
     "name": "stdout",
     "output_type": "stream",
     "text": [
      "(251, 251, 251)\n",
      "[251, 251, 251]\n"
     ]
    }
   ],
   "source": [
    "dim = data.GetDimensions()\n",
    "vec = list(dim)\n",
    "vec = [i-1 for i in dim]\n",
    "vec.append(3)\n",
    "\n",
    "print dim\n",
    "print list(dim)"
   ]
  },
  {
   "cell_type": "code",
   "execution_count": 47,
   "metadata": {},
   "outputs": [],
   "source": [
    "data_vars = [\n",
    "    ('Density', 'den'),\n",
    "    ('Velocity', 'amp'),\n",
    "    ('Liq_Mass_Frac', 'liq_mass_frac'),\n",
    "    ('Liq_Vol_Frac', 'liq_vol_frac')\n",
    "] "
   ]
  },
  {
   "cell_type": "code",
   "execution_count": 26,
   "metadata": {},
   "outputs": [
    {
     "name": "stdout",
     "output_type": "stream",
     "text": [
      "(251, 251, 251)\n",
      "15813251\n",
      "vtkPointData (0x7fb8d3f2ddd0)\n",
      "  Debug: Off\n",
      "  Modified Time: 478\n",
      "  Reference Count: 2\n",
      "  Registered Events: \n",
      "    Registered Observers:\n",
      "      vtkObserver (0x7fb8d3f2ded0)\n",
      "        Event: 33\n",
      "        EventName: ModifiedEvent\n",
      "        Command: 0x7fb8d3f2f770\n",
      "        Priority: 0\n",
      "        Tag: 1\n",
      "  Number Of Arrays: 6\n",
      "  Array 0 name = Velocity\n",
      "  Array 1 name = Density\n",
      "  Array 2 name = Liq_Mass_Frac\n",
      "  Array 3 name = Liq_Vol_Frac\n",
      "  Array 4 name = vtkValidPointMask\n",
      "  Array 5 name = vtkGhostType\n",
      "  Number Of Components: 8\n",
      "  Number Of Tuples: 15813251\n",
      "  Copy Tuple Flags: ( 1 1 1 1 1 0 1 1 )\n",
      "  Interpolate Flags: ( 1 1 1 1 1 0 0 1 )\n",
      "  Pass Through Flags: ( 1 1 1 1 1 1 1 1 )\n",
      "  Scalars: (none)\n",
      "  Vectors: (none)\n",
      "  Normals: (none)\n",
      "  TCoords: (none)\n",
      "  Tensors: (none)\n",
      "  GlobalIds: (none)\n",
      "  PedigreeIds: (none)\n",
      "  EdgeFlag: (none)\n",
      "\n",
      "\n",
      "vtkFloatArray (0x7fb8d63b2620)\n",
      "  Debug: Off\n",
      "  Modified Time: 429\n",
      "  Reference Count: 2\n",
      "  Registered Events: (none)\n",
      "  Name: Density\n",
      "  Data type: float\n",
      "  Size: 15813252\n",
      "  MaxId: 15813250\n",
      "  NumberOfComponents: 1\n",
      "  Information: 0x7fb8d3e672a0\n",
      "    Debug: Off\n",
      "    Modified Time: 428\n",
      "    Reference Count: 1\n",
      "    Registered Events: (none)\n",
      "  Name: Density\n",
      "  Number Of Components: 1\n",
      "  Number Of Tuples: 15813251\n",
      "  Size: 15813252\n",
      "  MaxId: 15813250\n",
      "  LookupTable: (none)\n",
      "\n",
      "\n"
     ]
    }
   ],
   "source": [
    "print dim\n",
    "print data.GetNumberOfPoints()\n",
    "d = data.GetPoint(0)\n",
    "\n",
    "d=data.GetPointData()\n",
    "print d\n",
    "\n",
    "array=d.GetArray('Density')\n",
    "\n",
    "print array\n",
    "\n",
    "#print reader.GetNumberOfScalarsInFile() # get number of scalars\n",
    "\n",
    "#print reader.GetScalarsNameInFile(1) # get scalar name string\n"
   ]
  },
  {
   "cell_type": "code",
   "execution_count": 27,
   "metadata": {},
   "outputs": [],
   "source": [
    "d = VN.vtk_to_numpy(array)\n",
    "d = d.reshape(dim,order='F')\n"
   ]
  },
  {
   "cell_type": "code",
   "execution_count": 46,
   "metadata": {},
   "outputs": [],
   "source": [
    "\n",
    "\n",
    "\n",
    "dataset = '01'\n",
    "\n",
    "for z in range(dim[0]):\n",
    "    img = Image.fromarray(d[z])\n",
    "    output_path = path + dataset + '_den/' \n",
    "    ensure_dir(output_path)\n",
    "    img.save(output_path + \"vol\" + str(z).zfill(3) + \".tiff\")\n",
    "        "
   ]
  },
  {
   "cell_type": "code",
   "execution_count": 45,
   "metadata": {},
   "outputs": [
    {
     "name": "stderr",
     "output_type": "stream",
     "text": [
      "/Users/olesia/anaconda2/lib/python2.7/site-packages/ipykernel_launcher.py:1: DeprecationWarning: `imread` is deprecated!\n",
      "`imread` is deprecated in SciPy 1.0.0.\n",
      "Use ``matplotlib.pyplot.imread`` instead.\n",
      "  \"\"\"Entry point for launching an IPython kernel.\n"
     ]
    },
    {
     "data": {
      "image/png": "[encoded data removed]",
      "text/plain": [
       "<Figure size 432x288 with 1 Axes>"
      ]
     },
     "metadata": {},
     "output_type": "display_data"
    }
   ],
   "source": [
    "im = imread(output_path + 'vol100.tiff')\n",
    "\n",
    "plt.imshow(im, cmap='gray')\n",
    "plt.show()"
   ]
  },
  {
   "cell_type": "code",
   "execution_count": null,
   "metadata": {},
   "outputs": [],
   "source": []
  }
 ],
 "metadata": {
  "kernelspec": {
   "display_name": "Python 2",
   "language": "python",
   "name": "python2"
  },
  "language_info": {
   "codemirror_mode": {
    "name": "ipython",
    "version": 2
   },
   "file_extension": ".py",
   "mimetype": "text/x-python",
   "name": "python",
   "nbconvert_exporter": "python",
   "pygments_lexer": "ipython2",
   "version": "2.7.15"
  }
 },
 "nbformat": 4,
 "nbformat_minor": 2
}
