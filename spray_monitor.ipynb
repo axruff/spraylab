{
 "cells": [
  {
   "cell_type": "code",
   "execution_count": 1,
   "metadata": {},
   "outputs": [],
   "source": [
    "import paramiko"
   ]
  },
  {
   "cell_type": "code",
   "execution_count": 6,
   "metadata": {},
   "outputs": [],
   "source": [
    "client = paramiko.SSHClient()\n",
    "client.set_missing_host_key_policy(paramiko.AutoAddPolicy())\n",
    "client.connect('ankaimageufo2.anka.kit.edu', username='fe0968', password=')"
   ]
  },
  {
   "cell_type": "code",
   "execution_count": 87,
   "metadata": {},
   "outputs": [],
   "source": [
    "stdin, stdout, stderr = client.exec_command('cd /mnt')"
   ]
  },
  {
   "cell_type": "code",
   "execution_count": 85,
   "metadata": {},
   "outputs": [],
   "source": [
    "stdin2, stdout2, stderr2 = client.exec_command('ls')"
   ]
  },
  {
   "cell_type": "code",
   "execution_count": null,
   "metadata": {},
   "outputs": [],
   "source": []
  },
  {
   "cell_type": "code",
   "execution_count": 88,
   "metadata": {},
   "outputs": [],
   "source": [
    "for line in stdout:\n",
    "    print(line.strip('\\n'))\n",
    "\n",
    "for line in stderr:\n",
    "    print(line.strip('\\n'))"
   ]
  },
  {
   "cell_type": "code",
   "execution_count": 62,
   "metadata": {},
   "outputs": [],
   "source": []
  },
  {
   "cell_type": "code",
   "execution_count": 9,
   "metadata": {},
   "outputs": [],
   "source": [
    "channel = client.invoke_shell()\n",
    "stdin = channel.makefile('wb')\n",
    "stdout = channel.makefile('rb')\n",
    "\n",
    "stdin.write('''\n",
    "cd /mnt/LSDF/anka-nc-cluster/home/ws/fe0968/cuda-flow2d\n",
    "./cuda-flow2d\n",
    "scp data/output/corr-coeff-512-256.raw data/output/result/\n",
    "exit\n",
    "''')\n"
   ]
  },
  {
   "cell_type": "code",
   "execution_count": 8,
   "metadata": {},
   "outputs": [
    {
     "name": "stdout",
     "output_type": "stream",
     "text": [
      "b'Last login: Mon Sep 10 17:48:08 2018 from dyn-dhcp-141-52-108-114.anka.kit.edu\\r\\r\\nHave a lot of fun...\\r\\n\\r\\ncd /mnt/LSDF/anka-nc-cluster/home/ws/fe0968/cuda-flow2d\\r\\n./cuda-flow2d\\r\\nscp data/output/corr-coeff-512-256.raw data/output/result/\\r\\nexit\\r\\nfe0968@ankaimageufo2:~> \\r\\nfe0968@ankaimageufo2:~> cd /mnt/LSDF/anka-nc-cluster/home/ws/fe0968/cuda-flow2d\\r\\nfe0968@ankaimageufo2:/mnt/LSDF/anka-nc-cluster/home/ws/fe0968/cuda-flow2d> ./cud \\ra-flow2d\\r\\nCUDA Device: GeForce GTX TITAN. Launch timeout: No\\r\\n//----------------------------------------------------------------------//\\r\\n//        2D Correlation flow (Test) using NVIDIA CUDA. Version 0.5\\t   \\r\\n//                                                                        \\r\\n//           Author: Alexey Ershov. <ershov.alexey@gmail.com>             \\r\\n//            Karlsruhe Institute of Technology. 2009 - 2018              \\r\\n//----------------------------------------------------------------------//\\r\\nAllocating memory on the device...\\r\\nAvailable\\t:\\t6015MB / 6082MB\\r\\nWidth: 512\\r\\nPitch: 512\\r\\n\\r\\nExtended Width: 10240\\r\\nExtended Pitch: 10240\\r\\nNeeded (approx.):\\t402MB\\r\\nDevice containers:\\r\\n287855345664\\r\\n288065060864\\r\\nAllocated\\t:\\t402MB\\r\\nInitialization of cuda operations...\\r\\nCUDA Correlation 2D: OK\\r\\nCUDA Add 2D       : OK\\r\\n\\r\\nStarting correlation flow computation...\\r\\nShared memory: 49152 Needed: 5184 \\r\\nPitch: 10240\\r\\nGrid dim:640 320\\r\\nWidth:10240\\r\\nHeight:5120\\r\\nTotal GPU computation time:  0.3840s\\r\\nfe0968@ankaimageufo2:/mnt/LSDF/anka-nc-cluster/home/ws/fe0968/cuda-flow2d> scp d \\rata/output/corr-coeff-512-256.raw data/output/result/\\r\\nfe0968@ankaimageufo2:/mnt/LSDF/anka-nc-cluster/home/ws/fe0968/cuda-flow2d> exit\\r\\nlogout\\r\\n'\n"
     ]
    }
   ],
   "source": [
    "print(stdout.read())"
   ]
  },
  {
   "cell_type": "code",
   "execution_count": 70,
   "metadata": {},
   "outputs": [
    {
     "ename": "TypeError",
     "evalue": "a bytes-like object is required, not 'str'",
     "output_type": "error",
     "traceback": [
      "\u001b[1;31m---------------------------------------------------------------------------\u001b[0m",
      "\u001b[1;31mTypeError\u001b[0m                                 Traceback (most recent call last)",
      "\u001b[1;32m<ipython-input-70-20fbead5048c>\u001b[0m in \u001b[0;36m<module>\u001b[1;34m()\u001b[0m\n\u001b[0;32m      1\u001b[0m \u001b[1;32mfor\u001b[0m \u001b[0mline\u001b[0m \u001b[1;32min\u001b[0m \u001b[0mstdout\u001b[0m\u001b[1;33m:\u001b[0m\u001b[1;33m\u001b[0m\u001b[0m\n\u001b[1;32m----> 2\u001b[1;33m     \u001b[0mprint\u001b[0m\u001b[1;33m(\u001b[0m\u001b[0mline\u001b[0m\u001b[1;33m.\u001b[0m\u001b[0mstrip\u001b[0m\u001b[1;33m(\u001b[0m\u001b[1;34m'\\n'\u001b[0m\u001b[1;33m)\u001b[0m\u001b[1;33m)\u001b[0m\u001b[1;33m\u001b[0m\u001b[0m\n\u001b[0m",
      "\u001b[1;31mTypeError\u001b[0m: a bytes-like object is required, not 'str'"
     ]
    }
   ],
   "source": [
    "for line in stdout:\n",
    "    print(line.strip('\\n'))"
   ]
  },
  {
   "cell_type": "code",
   "execution_count": 5,
   "metadata": {},
   "outputs": [],
   "source": [
    "client.close()"
   ]
  },
  {
   "cell_type": "code",
   "execution_count": null,
   "metadata": {},
   "outputs": [],
   "source": []
  }
 ],
 "metadata": {
  "kernelspec": {
   "display_name": "Python 3",
   "language": "python",
   "name": "python3"
  },
  "language_info": {
   "codemirror_mode": {
    "name": "ipython",
    "version": 3
   },
   "file_extension": ".py",
   "mimetype": "text/x-python",
   "name": "python",
   "nbconvert_exporter": "python",
   "pygments_lexer": "ipython3",
   "version": "3.6.5"
  }
 },
 "nbformat": 4,
 "nbformat_minor": 2
}
