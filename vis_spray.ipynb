{
 "cells": [
  {
   "cell_type": "code",
   "execution_count": 1,
   "metadata": {},
   "outputs": [],
   "source": [
    "import numpy as np\n",
    "import math\n",
    "import os\n",
    "import time as t\n",
    "import re\n",
    "\n",
    "import matplotlib.pyplot as plt\n",
    "import matplotlib.cm as cm\n",
    "import matplotlib.gridspec as gridspec\n",
    "\n",
    "from scipy.ndimage import imread\n",
    "from scipy import ndimage\n",
    "from scipy.signal import fftconvolve\n",
    "from scipy.ndimage.filters import gaussian_filter\n",
    "from skimage.feature import peak_local_max, canny\n",
    "from skimage.measure import regionprops\n",
    "from skimage.filters.rank import gradient\n",
    "from skimage.filters import sobel\n",
    "from skimage import data, img_as_float\n",
    "\n",
    "from PIL import Image\n",
    "import pandas as pd\n",
    "\n",
    "from ipywidgets import interact, interactive, fixed\n",
    "import ipywidgets as widgets\n",
    "\n",
    "from correlation import *\n",
    "from utils import read_tiff, scan_directory_tree, make_dir\n"
   ]
  },
  {
   "cell_type": "code",
   "execution_count": 6,
   "metadata": {},
   "outputs": [],
   "source": [
    "# From Linux servers\n",
    "dataset = '17_3_18_1'\n",
    "region = '0'\n",
    "\n",
    "path_input = u'/mnt/LSDF/projects/pn-reduction/2018_09_esrf_me1516/Phantom/' + dataset + '/'\n",
    "\n",
    "max_read_images = 1000"
   ]
  },
  {
   "cell_type": "code",
   "execution_count": 7,
   "metadata": {},
   "outputs": [
    {
     "name": "stdout",
     "output_type": "stream",
     "text": [
      "Reading data...\n",
      "Time elapsed:  3.14221453666687\n"
     ]
    }
   ],
   "source": [
    "print ('Reading data...')\n",
    "start = t.time()\n",
    "    \n",
    "images = read_tiff(path_input + dataset + '_Tile_d' +region +'.tif', max_read_images)\n",
    "\n",
    "\n",
    "end = t.time()\n",
    "print ('Time elapsed: ', (end-start))"
   ]
  },
  {
   "cell_type": "code",
   "execution_count": null,
   "metadata": {},
   "outputs": [],
   "source": []
  },
  {
   "cell_type": "code",
   "execution_count": null,
   "metadata": {},
   "outputs": [],
   "source": []
  },
  {
   "cell_type": "code",
   "execution_count": null,
   "metadata": {},
   "outputs": [],
   "source": [
    " + ''"
   ]
  }
 ],
 "metadata": {
  "kernelspec": {
   "display_name": "Python 3",
   "language": "python",
   "name": "python3"
  },
  "language_info": {
   "codemirror_mode": {
    "name": "ipython",
    "version": 3
   },
   "file_extension": ".py",
   "mimetype": "text/x-python",
   "name": "python",
   "nbconvert_exporter": "python",
   "pygments_lexer": "ipython3",
   "version": "3.7.0"
  }
 },
 "nbformat": 4,
 "nbformat_minor": 2
}
