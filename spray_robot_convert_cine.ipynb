{
 "cells": [
  {
   "cell_type": "code",
   "execution_count": 1,
   "metadata": {},
   "outputs": [],
   "source": [
    "import pyautogui as pa\n",
    "import sys\n",
    "import os\n",
    "import re\n",
    "from time import sleep"
   ]
  },
  {
   "cell_type": "code",
   "execution_count": 2,
   "metadata": {},
   "outputs": [],
   "source": [
    "def scan_directory_tree(rootDir):\n",
    "    \n",
    "    path_list = []\n",
    "    \n",
    "    print 'Start scanning'\n",
    "    # Set the directory you want to start from\n",
    "    #rootDir = u'y:\\\\projects\\\\pn-reduction\\\\2018_03_esrf_mi1325\\\\Phantom\\\\Glasduese\\\\'\n",
    "    for dirName, subdirList, fileList in os.walk(rootDir):\n",
    "        \n",
    "        final_dir = (dirName.split('\\\\')[-1:][0]).encode('ascii','ignore')\n",
    "        \n",
    "        # Find Z**Y** pattern as final folders containing .cine files\n",
    "        is_valid = re.search('^([Z][0-9.]+[Y][0-9.]+)', final_dir)\n",
    "        #is_valid = True\n",
    "         \n",
    "        if len(subdirList) == 0 and is_valid:\n",
    "            #path_list.append(dirName)\n",
    "            #print('Dir: %s' % dirName)\n",
    "            \n",
    "            for fname in fileList:\n",
    "                if fname.find('.cine') != -1:\n",
    "                    #print('\\t%s' % fname)\n",
    "                    path = os.path.join(dirName, fname)\n",
    "                    path_list.append(path)\n",
    "                    #print('%s' % path)\n",
    "\n",
    "    print 'End scanning'\n",
    "    print 'In total', len(path_list), 'datasets'\n",
    "    return path_list"
   ]
  },
  {
   "cell_type": "code",
   "execution_count": null,
   "metadata": {},
   "outputs": [],
   "source": []
  },
  {
   "cell_type": "code",
   "execution_count": 2,
   "metadata": {},
   "outputs": [
    {
     "ename": "NameError",
     "evalue": "name 'scan_directory_tree' is not defined",
     "output_type": "error",
     "traceback": [
      "\u001b[1;31m---------------------------------------------------------------------------\u001b[0m",
      "\u001b[1;31mNameError\u001b[0m                                 Traceback (most recent call last)",
      "\u001b[1;32m<ipython-input-2-76050f40b8c1>\u001b[0m in \u001b[0;36m<module>\u001b[1;34m()\u001b[0m\n\u001b[0;32m      1\u001b[0m \u001b[0mroot_path\u001b[0m \u001b[1;33m=\u001b[0m \u001b[1;34mu'y:\\\\projects\\\\pn-reduction\\\\2018_03_esrf_mi1325\\\\Phantom\\\\Glasduese\\\\'\u001b[0m\u001b[1;33m\u001b[0m\u001b[0m\n\u001b[0;32m      2\u001b[0m \u001b[1;33m\u001b[0m\u001b[0m\n\u001b[1;32m----> 3\u001b[1;33m \u001b[0mpath_list\u001b[0m \u001b[1;33m=\u001b[0m \u001b[0mscan_directory_tree\u001b[0m\u001b[1;33m(\u001b[0m\u001b[0mroot_path\u001b[0m\u001b[1;33m)\u001b[0m\u001b[1;33m\u001b[0m\u001b[0m\n\u001b[0m\u001b[0;32m      4\u001b[0m \u001b[1;33m\u001b[0m\u001b[0m\n\u001b[0;32m      5\u001b[0m \u001b[1;32mimport\u001b[0m \u001b[0mpickle\u001b[0m\u001b[1;33m\u001b[0m\u001b[0m\n",
      "\u001b[1;31mNameError\u001b[0m: name 'scan_directory_tree' is not defined"
     ]
    }
   ],
   "source": [
    "root_path = u'y:\\\\projects\\\\pn-reduction\\\\2018_03_esrf_mi1325\\\\Phantom\\\\Glasduese\\\\'\n",
    "\n",
    "path_list = scan_directory_tree(root_path)\n",
    "\n",
    "import pickle\n",
    "\n",
    "with open(root_path, 'wb') as fp:\n",
    "    pickle.dump(path_list, fp)\n"
   ]
  },
  {
   "cell_type": "code",
   "execution_count": 20,
   "metadata": {},
   "outputs": [],
   "source": []
  },
  {
   "cell_type": "code",
   "execution_count": 3,
   "metadata": {},
   "outputs": [],
   "source": [
    "screenWidth, screenHeight = pa.size()\n",
    "\n",
    "\n",
    "pa.PAUSE = 0.5\n",
    "\n",
    "cv_button_x = 1325\n",
    "cv_button_y = 1100 + 66\n",
    "\n",
    "cv_close_button_x = 1642\n",
    "cv_close_button_y = 13 + 66\n",
    "\n",
    "pa.moveTo(cv_button_x, cv_button_y, 1, pa.easeOutQuad)\n",
    "pa.click()\n",
    "\n",
    "\n",
    "sleep(1.0)\n",
    "\n",
    "\n",
    "CAUTION________________ = False\n",
    "\n",
    "if CAUTION________________:\n",
    "    for dataset in path_list:\n",
    "\n",
    "        # Substitute non-ASCII symbol\n",
    "        pattern = u\"\\xb0\" # degree character '°'\n",
    "        sub = \"?\"\n",
    "\n",
    "        file_name = dataset.split('\\\\')[-1:][0].replace(pattern, \"\")[:-5]\n",
    "        path_no_unicode = dataset.replace(pattern, u\"?\")\n",
    "\n",
    "        pa.hotkey('ctrl', 'o')\n",
    "\n",
    "        # split path into parts without non-ASCII symbols \n",
    "        print_list = path_no_unicode.split('?')\n",
    "\n",
    "        for i in range(len(print_list)):\n",
    "        #for i in range(0, 1): \n",
    "\n",
    "            t = print_list[i]\n",
    "            pa.typewrite(t)\n",
    "\n",
    "            #pa.typewrite('x')\n",
    "            #pa.typewrite('xy', interval=0.5)\n",
    "\n",
    "            # Input degree character '°' via keyboard\n",
    "            pa.keyDown('shift')  # hold down the shift key\n",
    "            pa.press('^')\n",
    "            pa.keyUp('shift')\n",
    "\n",
    "        pa.press('backspace')\n",
    "\n",
    "        pa.press('enter')\n",
    "\n",
    "        pa.hotkey('ctrl', 's')\n",
    "\n",
    "        pa.typewrite(file_name)\n",
    "\n",
    "        pa.press('enter')\n",
    "\n",
    "\n",
    "        sleep(3*60)\n",
    "\n",
    "        pa.moveTo(cv_close_button_x, cv_close_button_y, 1, pa.easeOutQuad)\n",
    "        pa.click()\n",
    "\n",
    "        sleep(1.0)\n",
    "\n",
    "        print 'Processed: ', path_no_unicode \n",
    "\n",
    "\n",
    "\n",
    "\n"
   ]
  },
  {
   "cell_type": "markdown",
   "metadata": {},
   "source": [
    "## Start"
   ]
  },
  {
   "cell_type": "markdown",
   "metadata": {},
   "source": []
  },
  {
   "cell_type": "code",
   "execution_count": null,
   "metadata": {},
   "outputs": [
    {
     "name": "stdout",
     "output_type": "stream",
     "text": [
      "Processed:  5\n",
      "Processed:  7.5\n",
      "Processed:  10\n",
      "Processed:  12.5\n",
      "Processed:  15\n",
      "Processed:  17.5\n"
     ]
    }
   ],
   "source": [
    "screenWidth, screenHeight = pa.size()\n",
    "\n",
    "\n",
    "pa.PAUSE = 0.5\n",
    "\n",
    "cv_button_x = 1425 - 25\n",
    "cv_button_y = 1100 + 66\n",
    "\n",
    "cv_close_button_x = 1642\n",
    "cv_close_button_y = 13 + 66\n",
    "\n",
    "pa.moveTo(cv_button_x, cv_button_y, 1, pa.easeOutQuad)\n",
    "pa.click()\n",
    "\n",
    "file_name = '17_3_23_1_Tile_d'\n",
    "regions = ['5', '7.5', '10', '12.5', '15', '17.5', '20']\n",
    "\n",
    "#regions = ['5']\n",
    "\n",
    "sleep(1.0)\n",
    "\n",
    "\n",
    "CAUTION________________ = True\n",
    "\n",
    "if CAUTION________________:\n",
    "    for region in regions:\n",
    "        \n",
    "        # Open\n",
    "        pa.hotkey('ctrl', 'o')\n",
    "        pa.typewrite(file_name + region+'.cine')\n",
    "        pa.press('enter')\n",
    "        \n",
    "        sleep(1)\n",
    "\n",
    "        # Save\n",
    "        pa.hotkey('ctrl', 's')\n",
    "        pa.typewrite(file_name + region+'.tif')\n",
    "        pa.press('enter')\n",
    "\n",
    "        \n",
    "        sleep(3.5*60)\n",
    "\n",
    "        pa.moveTo(cv_close_button_x, cv_close_button_y, 1, pa.easeOutQuad)\n",
    "        pa.click()\n",
    "\n",
    "        sleep(1.0)\n",
    "\n",
    "        print('Processed: ', region)"
   ]
  },
  {
   "cell_type": "code",
   "execution_count": 6,
   "metadata": {},
   "outputs": [],
   "source": []
  }
 ],
 "metadata": {
  "kernelspec": {
   "display_name": "Python 3",
   "language": "python",
   "name": "python3"
  },
  "language_info": {
   "codemirror_mode": {
    "name": "ipython",
    "version": 3
   },
   "file_extension": ".py",
   "mimetype": "text/x-python",
   "name": "python",
   "nbconvert_exporter": "python",
   "pygments_lexer": "ipython3",
   "version": "3.6.5"
  }
 },
 "nbformat": 4,
 "nbformat_minor": 2
}
